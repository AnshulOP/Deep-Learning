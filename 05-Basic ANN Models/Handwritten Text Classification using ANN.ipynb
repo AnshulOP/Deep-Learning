{
 "cells": [
  {
   "cell_type": "markdown",
   "id": "ec628c6f",
   "metadata": {},
   "source": [
    "#### Importing the Libraries"
   ]
  },
  {
   "cell_type": "code",
   "execution_count": 1,
   "id": "c724a6a6",
   "metadata": {},
   "outputs": [],
   "source": [
    "import numpy as np\n",
    "import matplotlib.pyplot as plt\n",
    "import tensorflow\n",
    "from tensorflow import keras\n",
    "from tensorflow.keras import Sequential\n",
    "from tensorflow.keras.layers import Dense,Flatten"
   ]
  },
  {
   "cell_type": "markdown",
   "id": "64b1ac2c",
   "metadata": {},
   "source": [
    "#### Loading the Dataset"
   ]
  },
  {
   "cell_type": "code",
   "execution_count": 2,
   "id": "e2f8e423",
   "metadata": {},
   "outputs": [],
   "source": [
    "(x_train, y_train), (x_test, y_test) = keras.datasets.mnist.load_data()"
   ]
  },
  {
   "cell_type": "code",
   "execution_count": 3,
   "id": "a9182796",
   "metadata": {},
   "outputs": [
    {
     "data": {
      "text/plain": [
       "<matplotlib.image.AxesImage at 0x1822e301310>"
      ]
     },
     "execution_count": 3,
     "metadata": {},
     "output_type": "execute_result"
    },
    {
     "data": {
      "image/png": "[encoded data removed]",
      "text/plain": [
       "<Figure size 500x300 with 1 Axes>"
      ]
     },
     "metadata": {},
     "output_type": "display_data"
    }
   ],
   "source": [
    "plt.figure(figsize = (5,3))\n",
    "plt.imshow(x_train[17])"
   ]
  },
  {
   "cell_type": "markdown",
   "id": "39cec5cd",
   "metadata": {},
   "source": [
    "#### Scalling the values"
   ]
  },
  {
   "cell_type": "code",
   "execution_count": 4,
   "id": "46a01b6e",
   "metadata": {},
   "outputs": [],
   "source": [
    "# The pixel values are typically represented as integers ranging from 0 to 255, with 0 representing black and 255 representing white. By dividing the pixel values by 255, we can rescale the values to be in the range of 0 to 1\n",
    "x_train = x_train/255\n",
    "x_test = x_test/255"
   ]
  },
  {
   "cell_type": "markdown",
   "id": "a0b0618f",
   "metadata": {},
   "source": [
    "#### Building ANN model with prarmeters"
   ]
  },
  {
   "cell_type": "code",
   "execution_count": 5,
   "id": "5d8da3e1",
   "metadata": {},
   "outputs": [],
   "source": [
    "# Define a Sequential model\n",
    "model = Sequential()\n",
    "\n",
    "# Add a Flatten layer to flatten the input image to a 1D array\n",
    "# Input shape is (28, 28) for a 28x28 grayscale image\n",
    "model.add(Flatten(input_shape=(28,28)))\n",
    "\n",
    "# Add a Dense layer with 128 neurons and ReLU activation\n",
    "model.add(Dense(128, activation='relu'))\n",
    "\n",
    "# Add another Dense layer with 32 neurons and ReLU activation\n",
    "model.add(Dense(32, activation='relu'))\n",
    "\n",
    "# Add the output layer with 10 neurons (for 10 classes) and softmax activation\n",
    "model.add(Dense(10, activation='softmax'))"
   ]
  },
  {
   "cell_type": "code",
   "execution_count": 6,
   "id": "319b3178",
   "metadata": {},
   "outputs": [
    {
     "name": "stdout",
     "output_type": "stream",
     "text": [
      "Model: \"sequential\"\n",
      "_________________________________________________________________\n",
      " Layer (type)                Output Shape              Param #   \n",
      "=================================================================\n",
      " flatten (Flatten)           (None, 784)               0         \n",
      "                                                                 \n",
      " dense (Dense)               (None, 128)               100480    \n",
      "                                                                 \n",
      " dense_1 (Dense)             (None, 32)                4128      \n",
      "                                                                 \n",
      " dense_2 (Dense)             (None, 10)                330       \n",
      "                                                                 \n",
      "=================================================================\n",
      "Total params: 104,938\n",
      "Trainable params: 104,938\n",
      "Non-trainable params: 0\n",
      "_________________________________________________________________\n"
     ]
    }
   ],
   "source": [
    "model.summary()"
   ]
  },
  {
   "cell_type": "markdown",
   "id": "c22b88de",
   "metadata": {},
   "source": [
    "#### Compiling the model with parameters built"
   ]
  },
  {
   "cell_type": "code",
   "execution_count": 7,
   "id": "b9e6d8eb",
   "metadata": {},
   "outputs": [],
   "source": [
    "# Compile the model with sparse categorical crossentropy as the loss function\n",
    "# This is used when the labels are integers (as opposed to one-hot encoded vectors)\n",
    "model.compile(loss='sparse_categorical_crossentropy',\n",
    "              # Use the Adam optimizer to update the weights during training\n",
    "              optimizer='Adam',\n",
    "              # Use accuracy as the metric to evaluate the performance of the model\n",
    "              metrics=['accuracy'])"
   ]
  },
  {
   "cell_type": "markdown",
   "id": "ba3bd642",
   "metadata": {},
   "source": [
    "#### Result"
   ]
  },
  {
   "cell_type": "code",
   "execution_count": 8,
   "id": "0b074177",
   "metadata": {},
   "outputs": [
    {
     "name": "stdout",
     "output_type": "stream",
     "text": [
      "Epoch 1/25\n",
      "1500/1500 [==============================] - 6s 4ms/step - loss: 0.2781 - accuracy: 0.9193 - val_loss: 0.1467 - val_accuracy: 0.9563\n",
      "Epoch 2/25\n",
      "1500/1500 [==============================] - 5s 3ms/step - loss: 0.1229 - accuracy: 0.9630 - val_loss: 0.1108 - val_accuracy: 0.9682\n",
      "Epoch 3/25\n",
      "1500/1500 [==============================] - 10s 7ms/step - loss: 0.0839 - accuracy: 0.9743 - val_loss: 0.0998 - val_accuracy: 0.9719\n",
      "Epoch 4/25\n",
      "1500/1500 [==============================] - 8s 5ms/step - loss: 0.0618 - accuracy: 0.9806 - val_loss: 0.0965 - val_accuracy: 0.9729\n",
      "Epoch 5/25\n",
      "1500/1500 [==============================] - 7s 5ms/step - loss: 0.0488 - accuracy: 0.9844 - val_loss: 0.0940 - val_accuracy: 0.9733\n",
      "Epoch 6/25\n",
      "1500/1500 [==============================] - 7s 5ms/step - loss: 0.0384 - accuracy: 0.9870 - val_loss: 0.0950 - val_accuracy: 0.9747\n",
      "Epoch 7/25\n",
      "1500/1500 [==============================] - 7s 4ms/step - loss: 0.0334 - accuracy: 0.9888 - val_loss: 0.1048 - val_accuracy: 0.9706\n",
      "Epoch 8/25\n",
      "1500/1500 [==============================] - 7s 5ms/step - loss: 0.0264 - accuracy: 0.9910 - val_loss: 0.1050 - val_accuracy: 0.9732\n",
      "Epoch 9/25\n",
      "1500/1500 [==============================] - 7s 5ms/step - loss: 0.0215 - accuracy: 0.9930 - val_loss: 0.1068 - val_accuracy: 0.9732\n",
      "Epoch 10/25\n",
      "1500/1500 [==============================] - 11s 7ms/step - loss: 0.0215 - accuracy: 0.9930 - val_loss: 0.1097 - val_accuracy: 0.9735\n",
      "Epoch 11/25\n",
      "1500/1500 [==============================] - 6s 4ms/step - loss: 0.0186 - accuracy: 0.9936 - val_loss: 0.1296 - val_accuracy: 0.9735\n",
      "Epoch 12/25\n",
      "1500/1500 [==============================] - 6s 4ms/step - loss: 0.0140 - accuracy: 0.9958 - val_loss: 0.1176 - val_accuracy: 0.9753\n",
      "Epoch 13/25\n",
      "1500/1500 [==============================] - 5s 4ms/step - loss: 0.0158 - accuracy: 0.9949 - val_loss: 0.1182 - val_accuracy: 0.9753\n",
      "Epoch 14/25\n",
      "1500/1500 [==============================] - 5s 3ms/step - loss: 0.0141 - accuracy: 0.9952 - val_loss: 0.1253 - val_accuracy: 0.9744\n",
      "Epoch 15/25\n",
      "1500/1500 [==============================] - 6s 4ms/step - loss: 0.0108 - accuracy: 0.9964 - val_loss: 0.1316 - val_accuracy: 0.9747\n",
      "Epoch 16/25\n",
      "1500/1500 [==============================] - 6s 4ms/step - loss: 0.0107 - accuracy: 0.9965 - val_loss: 0.1440 - val_accuracy: 0.9730\n",
      "Epoch 17/25\n",
      "1500/1500 [==============================] - 11s 7ms/step - loss: 0.0126 - accuracy: 0.9957 - val_loss: 0.1453 - val_accuracy: 0.9740\n",
      "Epoch 18/25\n",
      "1500/1500 [==============================] - 7s 5ms/step - loss: 0.0100 - accuracy: 0.9966 - val_loss: 0.1494 - val_accuracy: 0.9749\n",
      "Epoch 19/25\n",
      "1500/1500 [==============================] - 6s 4ms/step - loss: 0.0113 - accuracy: 0.9962 - val_loss: 0.1576 - val_accuracy: 0.9728\n",
      "Epoch 20/25\n",
      "1500/1500 [==============================] - 6s 4ms/step - loss: 0.0104 - accuracy: 0.9965 - val_loss: 0.1460 - val_accuracy: 0.9772\n",
      "Epoch 21/25\n",
      "1500/1500 [==============================] - 6s 4ms/step - loss: 0.0098 - accuracy: 0.9969 - val_loss: 0.1393 - val_accuracy: 0.9745\n",
      "Epoch 22/25\n",
      "1500/1500 [==============================] - 8s 5ms/step - loss: 0.0078 - accuracy: 0.9974 - val_loss: 0.1573 - val_accuracy: 0.9747\n",
      "Epoch 23/25\n",
      "1500/1500 [==============================] - 7s 4ms/step - loss: 0.0076 - accuracy: 0.9977 - val_loss: 0.1886 - val_accuracy: 0.9707\n",
      "Epoch 24/25\n",
      "1500/1500 [==============================] - 5s 3ms/step - loss: 0.0104 - accuracy: 0.9964 - val_loss: 0.1518 - val_accuracy: 0.9762\n",
      "Epoch 25/25\n",
      "1500/1500 [==============================] - 6s 4ms/step - loss: 0.0080 - accuracy: 0.9976 - val_loss: 0.1606 - val_accuracy: 0.9755\n"
     ]
    }
   ],
   "source": [
    "# Train the model using the training data and labels\n",
    "# x_train is the input data\n",
    "# y_train is the corresponding labels\n",
    "# epochs is the number of times the entire dataset is passed through the model during training\n",
    "# validation_split is the fraction of the training data to use for validation\n",
    "calculation = model.fit(x_train, y_train, epochs=25, validation_split=0.2)"
   ]
  },
  {
   "cell_type": "code",
   "execution_count": 9,
   "id": "c1a76e47",
   "metadata": {},
   "outputs": [],
   "source": [
    "# Get the weights of the second layer (index 1) in the model using the get_weights() method\n",
    "weights = model.layers[1].get_weights()"
   ]
  },
  {
   "cell_type": "markdown",
   "id": "f9a20f80",
   "metadata": {},
   "source": [
    "#### Predicting x test values"
   ]
  },
  {
   "cell_type": "code",
   "execution_count": 10,
   "id": "501bd317",
   "metadata": {},
   "outputs": [
    {
     "name": "stdout",
     "output_type": "stream",
     "text": [
      "313/313 [==============================] - 1s 1ms/step\n"
     ]
    }
   ],
   "source": [
    "# Predict the class probabilities of the test data using the model's predict() method\n",
    "# x_test is the input data for which we want to predict the probabilities\n",
    "probabilities = model.predict(x_test)"
   ]
  },
  {
   "cell_type": "code",
   "execution_count": 11,
   "id": "27f4f9ca",
   "metadata": {},
   "outputs": [],
   "source": [
    "# Find the predicted classes by taking the index of the maximum probability in each row of the predicted probabilities array\n",
    "# The argmax() method returns the indices of the maximum values along an axis\n",
    "y_pred = probabilities.argmax(axis=1)"
   ]
  },
  {
   "cell_type": "code",
   "execution_count": 12,
   "id": "5229513c",
   "metadata": {},
   "outputs": [
    {
     "data": {
      "text/plain": [
       "0.9757"
      ]
     },
     "execution_count": 12,
     "metadata": {},
     "output_type": "execute_result"
    }
   ],
   "source": [
    "from sklearn.metrics import accuracy_score\n",
    "accuracy_score(y_test, y_pred)"
   ]
  },
  {
   "cell_type": "markdown",
   "id": "713a51d2",
   "metadata": {},
   "source": [
    "#### Visualising changes in loss values and accuracy"
   ]
  },
  {
   "cell_type": "code",
   "execution_count": 13,
   "id": "2d315a66",
   "metadata": {},
   "outputs": [
    {
     "data": {
      "text/plain": [
       "<matplotlib.legend.Legend at 0x1822df82eb0>"
      ]
     },
     "execution_count": 13,
     "metadata": {},
     "output_type": "execute_result"
    },
    {
     "data": {
      "image/png": "[encoded data removed]",
      "text/plain": [
       "<Figure size 500x300 with 1 Axes>"
      ]
     },
     "metadata": {},
     "output_type": "display_data"
    }
   ],
   "source": [
    "# Create a figure with a specific size\n",
    "plt.figure(figsize=(5, 3))\n",
    "# Plot the training loss values stored in the 'loss' key of the 'calculation' object\n",
    "plt.plot(calculation.history['loss'])\n",
    "# Plot the validation loss values stored in the 'val_loss' key of the 'calculation' object\n",
    "plt.plot(calculation.history['val_loss'])\n",
    "# Add a label to the x-axis\n",
    "plt.xlabel('Epochs')\n",
    "# Add a label to the y-axis\n",
    "plt.ylabel('Loss')\n",
    "# Add a legend with labels for each line\n",
    "plt.legend(['Training', 'Validation'])"
   ]
  },
  {
   "cell_type": "code",
   "execution_count": 14,
   "id": "6e88d794",
   "metadata": {},
   "outputs": [
    {
     "data": {
      "text/plain": [
       "<matplotlib.legend.Legend at 0x1822df74e80>"
      ]
     },
     "execution_count": 14,
     "metadata": {},
     "output_type": "execute_result"
    },
    {
     "data": {
      "image/png": "[encoded data removed]",
      "text/plain": [
       "<Figure size 500x300 with 1 Axes>"
      ]
     },
     "metadata": {},
     "output_type": "display_data"
    }
   ],
   "source": [
    "# Set the figure size for the plot\n",
    "plt.figure(figsize = (5, 3))\n",
    "# Plot the training accuracy over the epochs\n",
    "plt.plot(calculation.history['accuracy'])\n",
    "# Plot the validation accuracy over the epochs\n",
    "plt.plot(calculation.history['val_accuracy'])\n",
    "# Set the title of the plot\n",
    "plt.title('Model accuracy')\n",
    "# Set the label for x-axis of the plot\n",
    "plt.xlabel('Epoch')\n",
    "# Set the label for y-axis of the plot\n",
    "plt.ylabel('Accuracy')\n",
    "# Add a legend to the plot\n",
    "plt.legend(['Training', 'Validation'])"
   ]
  },
  {
   "cell_type": "markdown",
   "id": "18627c37",
   "metadata": {},
   "source": [
    "#### Testing the model for the results"
   ]
  },
  {
   "cell_type": "code",
   "execution_count": 15,
   "id": "2e68ca1b",
   "metadata": {},
   "outputs": [
    {
     "data": {
      "text/plain": [
       "<matplotlib.image.AxesImage at 0x1822e07d0a0>"
      ]
     },
     "execution_count": 15,
     "metadata": {},
     "output_type": "execute_result"
    },
    {
     "data": {
      "image/png": "[encoded data removed]",
      "text/plain": [
       "<Figure size 500x300 with 1 Axes>"
      ]
     },
     "metadata": {},
     "output_type": "display_data"
    }
   ],
   "source": [
    "plt.figure(figsize = (5,3))\n",
    "plt.imshow(x_test[7])"
   ]
  },
  {
   "cell_type": "code",
   "execution_count": 16,
   "id": "b43ff27f",
   "metadata": {},
   "outputs": [
    {
     "name": "stdout",
     "output_type": "stream",
     "text": [
      "1/1 [==============================] - 0s 24ms/step\n"
     ]
    }
   ],
   "source": [
    "# Predict the class of the handwritten digit image at index 7 in the test set using the trained model\n",
    "# Reshape the image to have a shape of (1,28,28) to match the input shape of the model\n",
    "# The predict method returns an array of probabilities for each class\n",
    "# We use argmax along the axis 1 to get the class with the highest probability\n",
    "y_pred = model.predict(x_test[7].reshape(1,28,28)).argmax(axis=1)"
   ]
  }
 ],
 "metadata": {
  "kernelspec": {
   "display_name": "Python 3 (ipykernel)",
   "language": "python",
   "name": "python3"
  },
  "language_info": {
   "codemirror_mode": {
    "name": "ipython",
    "version": 3
   },
   "file_extension": ".py",
   "mimetype": "text/x-python",
   "name": "python",
   "nbconvert_exporter": "python",
   "pygments_lexer": "ipython3",
   "version": "3.9.13"
  }
 },
 "nbformat": 4,
 "nbformat_minor": 5
}
