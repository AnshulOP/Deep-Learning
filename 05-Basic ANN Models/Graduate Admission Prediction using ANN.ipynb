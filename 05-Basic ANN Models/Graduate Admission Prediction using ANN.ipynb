{
 "cells": [
  {
   "cell_type": "code",
   "execution_count": 1,
   "id": "bb525c9b",
   "metadata": {},
   "outputs": [],
   "source": [
    "import pandas as pd\n",
    "import matplotlib.pyplot as plt"
   ]
  },
  {
   "cell_type": "code",
   "execution_count": 2,
   "id": "00931047",
   "metadata": {},
   "outputs": [
    {
     "data": {
      "text/html": [
       "<div>\n",
       "<style scoped>\n",
       "    .dataframe tbody tr th:only-of-type {\n",
       "        vertical-align: middle;\n",
       "    }\n",
       "\n",
       "    .dataframe tbody tr th {\n",
       "        vertical-align: top;\n",
       "    }\n",
       "\n",
       "    .dataframe thead th {\n",
       "        text-align: right;\n",
       "    }\n",
       "</style>\n",
       "<table border=\"1\" class=\"dataframe\">\n",
       "  <thead>\n",
       "    <tr style=\"text-align: right;\">\n",
       "      <th></th>\n",
       "      <th>Serial No.</th>\n",
       "      <th>GRE Score</th>\n",
       "      <th>TOEFL Score</th>\n",
       "      <th>University Rating</th>\n",
       "      <th>SOP</th>\n",
       "      <th>LOR</th>\n",
       "      <th>CGPA</th>\n",
       "      <th>Research</th>\n",
       "      <th>Chance of Admit</th>\n",
       "    </tr>\n",
       "  </thead>\n",
       "  <tbody>\n",
       "    <tr>\n",
       "      <th>0</th>\n",
       "      <td>1</td>\n",
       "      <td>337</td>\n",
       "      <td>118</td>\n",
       "      <td>4</td>\n",
       "      <td>4.5</td>\n",
       "      <td>4.5</td>\n",
       "      <td>9.65</td>\n",
       "      <td>1</td>\n",
       "      <td>0.92</td>\n",
       "    </tr>\n",
       "    <tr>\n",
       "      <th>1</th>\n",
       "      <td>2</td>\n",
       "      <td>324</td>\n",
       "      <td>107</td>\n",
       "      <td>4</td>\n",
       "      <td>4.0</td>\n",
       "      <td>4.5</td>\n",
       "      <td>8.87</td>\n",
       "      <td>1</td>\n",
       "      <td>0.76</td>\n",
       "    </tr>\n",
       "    <tr>\n",
       "      <th>2</th>\n",
       "      <td>3</td>\n",
       "      <td>316</td>\n",
       "      <td>104</td>\n",
       "      <td>3</td>\n",
       "      <td>3.0</td>\n",
       "      <td>3.5</td>\n",
       "      <td>8.00</td>\n",
       "      <td>1</td>\n",
       "      <td>0.72</td>\n",
       "    </tr>\n",
       "    <tr>\n",
       "      <th>3</th>\n",
       "      <td>4</td>\n",
       "      <td>322</td>\n",
       "      <td>110</td>\n",
       "      <td>3</td>\n",
       "      <td>3.5</td>\n",
       "      <td>2.5</td>\n",
       "      <td>8.67</td>\n",
       "      <td>1</td>\n",
       "      <td>0.80</td>\n",
       "    </tr>\n",
       "    <tr>\n",
       "      <th>4</th>\n",
       "      <td>5</td>\n",
       "      <td>314</td>\n",
       "      <td>103</td>\n",
       "      <td>2</td>\n",
       "      <td>2.0</td>\n",
       "      <td>3.0</td>\n",
       "      <td>8.21</td>\n",
       "      <td>0</td>\n",
       "      <td>0.65</td>\n",
       "    </tr>\n",
       "  </tbody>\n",
       "</table>\n",
       "</div>"
      ],
      "text/plain": [
       "   Serial No.  GRE Score  TOEFL Score  University Rating  SOP  LOR   CGPA  \\\n",
       "0           1        337          118                  4  4.5   4.5  9.65   \n",
       "1           2        324          107                  4  4.0   4.5  8.87   \n",
       "2           3        316          104                  3  3.0   3.5  8.00   \n",
       "3           4        322          110                  3  3.5   2.5  8.67   \n",
       "4           5        314          103                  2  2.0   3.0  8.21   \n",
       "\n",
       "   Research  Chance of Admit   \n",
       "0         1              0.92  \n",
       "1         1              0.76  \n",
       "2         1              0.72  \n",
       "3         1              0.80  \n",
       "4         0              0.65  "
      ]
     },
     "execution_count": 2,
     "metadata": {},
     "output_type": "execute_result"
    }
   ],
   "source": [
    "dataset = pd.read_csv('Admission_Predict.csv')\n",
    "dataset.head()"
   ]
  },
  {
   "cell_type": "code",
   "execution_count": 3,
   "id": "79fbbbd2",
   "metadata": {},
   "outputs": [
    {
     "data": {
      "text/html": [
       "<div>\n",
       "<style scoped>\n",
       "    .dataframe tbody tr th:only-of-type {\n",
       "        vertical-align: middle;\n",
       "    }\n",
       "\n",
       "    .dataframe tbody tr th {\n",
       "        vertical-align: top;\n",
       "    }\n",
       "\n",
       "    .dataframe thead th {\n",
       "        text-align: right;\n",
       "    }\n",
       "</style>\n",
       "<table border=\"1\" class=\"dataframe\">\n",
       "  <thead>\n",
       "    <tr style=\"text-align: right;\">\n",
       "      <th></th>\n",
       "      <th>GRE Score</th>\n",
       "      <th>TOEFL Score</th>\n",
       "      <th>University Rating</th>\n",
       "      <th>SOP</th>\n",
       "      <th>LOR</th>\n",
       "      <th>CGPA</th>\n",
       "      <th>Research</th>\n",
       "      <th>Chance of Admit</th>\n",
       "    </tr>\n",
       "  </thead>\n",
       "  <tbody>\n",
       "    <tr>\n",
       "      <th>0</th>\n",
       "      <td>337</td>\n",
       "      <td>118</td>\n",
       "      <td>4</td>\n",
       "      <td>4.5</td>\n",
       "      <td>4.5</td>\n",
       "      <td>9.65</td>\n",
       "      <td>1</td>\n",
       "      <td>0.92</td>\n",
       "    </tr>\n",
       "    <tr>\n",
       "      <th>1</th>\n",
       "      <td>324</td>\n",
       "      <td>107</td>\n",
       "      <td>4</td>\n",
       "      <td>4.0</td>\n",
       "      <td>4.5</td>\n",
       "      <td>8.87</td>\n",
       "      <td>1</td>\n",
       "      <td>0.76</td>\n",
       "    </tr>\n",
       "    <tr>\n",
       "      <th>2</th>\n",
       "      <td>316</td>\n",
       "      <td>104</td>\n",
       "      <td>3</td>\n",
       "      <td>3.0</td>\n",
       "      <td>3.5</td>\n",
       "      <td>8.00</td>\n",
       "      <td>1</td>\n",
       "      <td>0.72</td>\n",
       "    </tr>\n",
       "    <tr>\n",
       "      <th>3</th>\n",
       "      <td>322</td>\n",
       "      <td>110</td>\n",
       "      <td>3</td>\n",
       "      <td>3.5</td>\n",
       "      <td>2.5</td>\n",
       "      <td>8.67</td>\n",
       "      <td>1</td>\n",
       "      <td>0.80</td>\n",
       "    </tr>\n",
       "    <tr>\n",
       "      <th>4</th>\n",
       "      <td>314</td>\n",
       "      <td>103</td>\n",
       "      <td>2</td>\n",
       "      <td>2.0</td>\n",
       "      <td>3.0</td>\n",
       "      <td>8.21</td>\n",
       "      <td>0</td>\n",
       "      <td>0.65</td>\n",
       "    </tr>\n",
       "  </tbody>\n",
       "</table>\n",
       "</div>"
      ],
      "text/plain": [
       "   GRE Score  TOEFL Score  University Rating  SOP  LOR   CGPA  Research  \\\n",
       "0        337          118                  4  4.5   4.5  9.65         1   \n",
       "1        324          107                  4  4.0   4.5  8.87         1   \n",
       "2        316          104                  3  3.0   3.5  8.00         1   \n",
       "3        322          110                  3  3.5   2.5  8.67         1   \n",
       "4        314          103                  2  2.0   3.0  8.21         0   \n",
       "\n",
       "   Chance of Admit   \n",
       "0              0.92  \n",
       "1              0.76  \n",
       "2              0.72  \n",
       "3              0.80  \n",
       "4              0.65  "
      ]
     },
     "execution_count": 3,
     "metadata": {},
     "output_type": "execute_result"
    }
   ],
   "source": [
    "dataset.drop(columns = ['Serial No.'], inplace = True)\n",
    "dataset.head()"
   ]
  },
  {
   "cell_type": "code",
   "execution_count": 7,
   "id": "cd681d3d",
   "metadata": {},
   "outputs": [],
   "source": [
    "x = dataset.iloc[:, 0:-1]\n",
    "y = dataset.iloc[:, -1]"
   ]
  },
  {
   "cell_type": "code",
   "execution_count": 9,
   "id": "3f0acd2a",
   "metadata": {},
   "outputs": [],
   "source": [
    "from sklearn.model_selection import train_test_split\n",
    "x_train, x_test, y_train, y_test = train_test_split(x, y, test_size=0.20, random_state=0)"
   ]
  },
  {
   "cell_type": "code",
   "execution_count": 11,
   "id": "b999a26e",
   "metadata": {},
   "outputs": [],
   "source": [
    "from sklearn.preprocessing import MinMaxScaler\n",
    "scaler = MinMaxScaler()\n",
    "\n",
    "x_train_trf = scaler.fit_transform(x_train)\n",
    "x_test_trf = scaler.transform(x_test)"
   ]
  },
  {
   "cell_type": "code",
   "execution_count": 13,
   "id": "00512148",
   "metadata": {},
   "outputs": [],
   "source": [
    "import tensorflow\n",
    "from tensorflow import keras\n",
    "from tensorflow.keras import Sequential \n",
    "from tensorflow.keras.layers import Dense"
   ]
  },
  {
   "cell_type": "code",
   "execution_count": 27,
   "id": "99844275",
   "metadata": {},
   "outputs": [],
   "source": [
    "model = Sequential()\n",
    "\n",
    "model.add(Dense(7, activation = 'relu', input_dim = 7))\n",
    "model.add(Dense(7, activation = 'relu'))\n",
    "model.add(Dense(1, activation = 'linear'))"
   ]
  },
  {
   "cell_type": "code",
   "execution_count": 28,
   "id": "c897a87e",
   "metadata": {},
   "outputs": [
    {
     "name": "stdout",
     "output_type": "stream",
     "text": [
      "Model: \"sequential_2\"\n",
      "_________________________________________________________________\n",
      " Layer (type)                Output Shape              Param #   \n",
      "=================================================================\n",
      " dense_4 (Dense)             (None, 7)                 56        \n",
      "                                                                 \n",
      " dense_5 (Dense)             (None, 7)                 56        \n",
      "                                                                 \n",
      " dense_6 (Dense)             (None, 1)                 8         \n",
      "                                                                 \n",
      "=================================================================\n",
      "Total params: 120\n",
      "Trainable params: 120\n",
      "Non-trainable params: 0\n",
      "_________________________________________________________________\n"
     ]
    }
   ],
   "source": [
    "model.summary()"
   ]
  },
  {
   "cell_type": "code",
   "execution_count": 29,
   "id": "94d61cd1",
   "metadata": {},
   "outputs": [],
   "source": [
    "model.compile(optimizer='Adam',loss='mean_squared_error')"
   ]
  },
  {
   "cell_type": "code",
   "execution_count": 30,
   "id": "e033d72b",
   "metadata": {},
   "outputs": [
    {
     "name": "stdout",
     "output_type": "stream",
     "text": [
      "Epoch 1/50\n",
      "10/10 [==============================] - 1s 20ms/step - loss: 0.1297 - val_loss: 0.0704\n",
      "Epoch 2/50\n",
      "10/10 [==============================] - 0s 7ms/step - loss: 0.0458 - val_loss: 0.0356\n",
      "Epoch 3/50\n",
      "10/10 [==============================] - 0s 7ms/step - loss: 0.0286 - val_loss: 0.0371\n",
      "Epoch 4/50\n",
      "10/10 [==============================] - 0s 6ms/step - loss: 0.0282 - val_loss: 0.0333\n",
      "Epoch 5/50\n",
      "10/10 [==============================] - 0s 6ms/step - loss: 0.0242 - val_loss: 0.0264\n",
      "Epoch 6/50\n",
      "10/10 [==============================] - 0s 6ms/step - loss: 0.0207 - val_loss: 0.0223\n",
      "Epoch 7/50\n",
      "10/10 [==============================] - 0s 6ms/step - loss: 0.0186 - val_loss: 0.0198\n",
      "Epoch 8/50\n",
      "10/10 [==============================] - 0s 6ms/step - loss: 0.0170 - val_loss: 0.0180\n",
      "Epoch 9/50\n",
      "10/10 [==============================] - 0s 6ms/step - loss: 0.0161 - val_loss: 0.0160\n",
      "Epoch 10/50\n",
      "10/10 [==============================] - 0s 6ms/step - loss: 0.0150 - val_loss: 0.0154\n",
      "Epoch 11/50\n",
      "10/10 [==============================] - 0s 7ms/step - loss: 0.0142 - val_loss: 0.0142\n",
      "Epoch 12/50\n",
      "10/10 [==============================] - 0s 6ms/step - loss: 0.0135 - val_loss: 0.0130\n",
      "Epoch 13/50\n",
      "10/10 [==============================] - 0s 6ms/step - loss: 0.0129 - val_loss: 0.0127\n",
      "Epoch 14/50\n",
      "10/10 [==============================] - 0s 6ms/step - loss: 0.0123 - val_loss: 0.0120\n",
      "Epoch 15/50\n",
      "10/10 [==============================] - 0s 7ms/step - loss: 0.0119 - val_loss: 0.0113\n",
      "Epoch 16/50\n",
      "10/10 [==============================] - 0s 6ms/step - loss: 0.0115 - val_loss: 0.0109\n",
      "Epoch 17/50\n",
      "10/10 [==============================] - 0s 6ms/step - loss: 0.0111 - val_loss: 0.0105\n",
      "Epoch 18/50\n",
      "10/10 [==============================] - 0s 6ms/step - loss: 0.0107 - val_loss: 0.0101\n",
      "Epoch 19/50\n",
      "10/10 [==============================] - 0s 6ms/step - loss: 0.0105 - val_loss: 0.0099\n",
      "Epoch 20/50\n",
      "10/10 [==============================] - 0s 5ms/step - loss: 0.0102 - val_loss: 0.0094\n",
      "Epoch 21/50\n",
      "10/10 [==============================] - 0s 6ms/step - loss: 0.0099 - val_loss: 0.0095\n",
      "Epoch 22/50\n",
      "10/10 [==============================] - 0s 6ms/step - loss: 0.0096 - val_loss: 0.0091\n",
      "Epoch 23/50\n",
      "10/10 [==============================] - 0s 6ms/step - loss: 0.0093 - val_loss: 0.0088\n",
      "Epoch 24/50\n",
      "10/10 [==============================] - 0s 6ms/step - loss: 0.0091 - val_loss: 0.0088\n",
      "Epoch 25/50\n",
      "10/10 [==============================] - 0s 6ms/step - loss: 0.0089 - val_loss: 0.0087\n",
      "Epoch 26/50\n",
      "10/10 [==============================] - 0s 6ms/step - loss: 0.0087 - val_loss: 0.0084\n",
      "Epoch 27/50\n",
      "10/10 [==============================] - 0s 6ms/step - loss: 0.0084 - val_loss: 0.0084\n",
      "Epoch 28/50\n",
      "10/10 [==============================] - 0s 7ms/step - loss: 0.0082 - val_loss: 0.0082\n",
      "Epoch 29/50\n",
      "10/10 [==============================] - 0s 7ms/step - loss: 0.0080 - val_loss: 0.0081\n",
      "Epoch 30/50\n",
      "10/10 [==============================] - 0s 7ms/step - loss: 0.0079 - val_loss: 0.0079\n",
      "Epoch 31/50\n",
      "10/10 [==============================] - 0s 6ms/step - loss: 0.0077 - val_loss: 0.0081\n",
      "Epoch 32/50\n",
      "10/10 [==============================] - 0s 6ms/step - loss: 0.0075 - val_loss: 0.0076\n",
      "Epoch 33/50\n",
      "10/10 [==============================] - 0s 6ms/step - loss: 0.0074 - val_loss: 0.0077\n",
      "Epoch 34/50\n",
      "10/10 [==============================] - 0s 6ms/step - loss: 0.0072 - val_loss: 0.0075\n",
      "Epoch 35/50\n",
      "10/10 [==============================] - 0s 6ms/step - loss: 0.0071 - val_loss: 0.0076\n",
      "Epoch 36/50\n",
      "10/10 [==============================] - 0s 5ms/step - loss: 0.0071 - val_loss: 0.0072\n",
      "Epoch 37/50\n",
      "10/10 [==============================] - 0s 6ms/step - loss: 0.0069 - val_loss: 0.0075\n",
      "Epoch 38/50\n",
      "10/10 [==============================] - 0s 7ms/step - loss: 0.0067 - val_loss: 0.0071\n",
      "Epoch 39/50\n",
      "10/10 [==============================] - 0s 7ms/step - loss: 0.0066 - val_loss: 0.0070\n",
      "Epoch 40/50\n",
      "10/10 [==============================] - 0s 6ms/step - loss: 0.0065 - val_loss: 0.0072\n",
      "Epoch 41/50\n",
      "10/10 [==============================] - 0s 6ms/step - loss: 0.0064 - val_loss: 0.0069\n",
      "Epoch 42/50\n",
      "10/10 [==============================] - 0s 6ms/step - loss: 0.0063 - val_loss: 0.0068\n",
      "Epoch 43/50\n",
      "10/10 [==============================] - 0s 6ms/step - loss: 0.0062 - val_loss: 0.0068\n",
      "Epoch 44/50\n",
      "10/10 [==============================] - 0s 6ms/step - loss: 0.0061 - val_loss: 0.0067\n",
      "Epoch 45/50\n",
      "10/10 [==============================] - 0s 7ms/step - loss: 0.0060 - val_loss: 0.0067\n",
      "Epoch 46/50\n",
      "10/10 [==============================] - 0s 7ms/step - loss: 0.0059 - val_loss: 0.0066\n",
      "Epoch 47/50\n",
      "10/10 [==============================] - 0s 7ms/step - loss: 0.0058 - val_loss: 0.0065\n",
      "Epoch 48/50\n",
      "10/10 [==============================] - 0s 6ms/step - loss: 0.0057 - val_loss: 0.0065\n",
      "Epoch 49/50\n",
      "10/10 [==============================] - 0s 6ms/step - loss: 0.0057 - val_loss: 0.0063\n",
      "Epoch 50/50\n",
      "10/10 [==============================] - 0s 6ms/step - loss: 0.0056 - val_loss: 0.0064\n"
     ]
    }
   ],
   "source": [
    "calculation = model.fit(x_train_trf, y_train, epochs=50, validation_split=0.2)"
   ]
  },
  {
   "cell_type": "code",
   "execution_count": 31,
   "id": "858416fc",
   "metadata": {},
   "outputs": [
    {
     "name": "stdout",
     "output_type": "stream",
     "text": [
      "4/4 [==============================] - 0s 2ms/step\n"
     ]
    }
   ],
   "source": [
    "y_pred = model.predict(x_test_trf)"
   ]
  },
  {
   "cell_type": "code",
   "execution_count": 32,
   "id": "73c3d6e9",
   "metadata": {},
   "outputs": [
    {
     "data": {
      "text/plain": [
       "0.5453466589953374"
      ]
     },
     "execution_count": 32,
     "metadata": {},
     "output_type": "execute_result"
    }
   ],
   "source": [
    "from sklearn.metrics import r2_score\n",
    "r2_score(y_test, y_pred)"
   ]
  },
  {
   "cell_type": "code",
   "execution_count": 33,
   "id": "e04ddf6d",
   "metadata": {},
   "outputs": [
    {
     "data": {
      "text/plain": [
       "<matplotlib.legend.Legend at 0x1845940ecd0>"
      ]
     },
     "execution_count": 33,
     "metadata": {},
     "output_type": "execute_result"
    },
    {
     "data": {
      "image/png": "[encoded data removed]",
      "text/plain": [
       "<Figure size 500x300 with 1 Axes>"
      ]
     },
     "metadata": {},
     "output_type": "display_data"
    }
   ],
   "source": [
    "# Create a figure with a specific size\n",
    "plt.figure(figsize=(5, 3))\n",
    "# Plot the training loss values stored in the 'loss' key of the 'calculation' object\n",
    "plt.plot(calculation.history['loss'])\n",
    "# Plot the validation loss values stored in the 'val_loss' key of the 'calculation' object\n",
    "plt.plot(calculation.history['val_loss'])\n",
    "# Add a label to the x-axis\n",
    "plt.xlabel('Epochs')\n",
    "# Add a label to the y-axis\n",
    "plt.ylabel('Loss')\n",
    "# Add a legend with labels for each line\n",
    "plt.legend(['Training', 'Validation'])"
   ]
  },
  {
   "cell_type": "code",
   "execution_count": null,
   "id": "bbbedc06",
   "metadata": {},
   "outputs": [],
   "source": []
  }
 ],
 "metadata": {
  "kernelspec": {
   "display_name": "Python 3 (ipykernel)",
   "language": "python",
   "name": "python3"
  },
  "language_info": {
   "codemirror_mode": {
    "name": "ipython",
    "version": 3
   },
   "file_extension": ".py",
   "mimetype": "text/x-python",
   "name": "python",
   "nbconvert_exporter": "python",
   "pygments_lexer": "ipython3",
   "version": "3.9.13"
  }
 },
 "nbformat": 4,
 "nbformat_minor": 5
}
